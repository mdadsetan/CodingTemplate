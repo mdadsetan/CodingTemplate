{
  "nbformat": 4,
  "nbformat_minor": 0,
  "metadata": {
    "colab": {
      "provenance": [],
      "authorship_tag": "ABX9TyPuFZ3PhiqsJ4M7z2ny0VCV",
      "include_colab_link": true
    },
    "kernelspec": {
      "name": "python3",
      "display_name": "Python 3"
    },
    "language_info": {
      "name": "python"
    }
  },
  "cells": [
    {
      "cell_type": "markdown",
      "metadata": {
        "id": "view-in-github",
        "colab_type": "text"
      },
      "source": [
        "<a href=\"https://colab.research.google.com/github/mdadsetan/CodingTemplate/blob/main/backtracking_template.ipynb\" target=\"_parent\"><img src=\"https://colab.research.google.com/assets/colab-badge.svg\" alt=\"Open In Colab\"/></a>"
      ]
    },
    {
      "cell_type": "code",
      "execution_count": 14,
      "metadata": {
        "id": "H-3SUiCePQmg"
      },
      "outputs": [],
      "source": [
        "from typing import List\n",
        "\n",
        "def backtracking_solver(nums: List[int], target: int = None, problem_type: str = \"subsets\") -> List[List[int]]:\n",
        "    res = []  # Stores the final result\n",
        "    nums = sorted(nums)  # Sorting helps in handling duplicates in some cases\n",
        "\n",
        "    def is_palindrome(sub):\n",
        "        return sub == sub[::-1]  # Checks if a string is a palindrome\n",
        "\n",
        "    # Subsets (Power Set)\n",
        "    def subsets(temp, start):\n",
        "        res.append(temp[:])  # Add current subset to result\n",
        "        for i in range(start, len(nums)):\n",
        "            temp.append(nums[i])  # Include current element\n",
        "            subsets(temp, i + 1)  # Recursive call for next elements\n",
        "            temp.pop()  # Remove last element to backtrack\n",
        "\n",
        "    # Subsets II (Handles Duplicates)\n",
        "    def subsets_with_dup(temp, start):\n",
        "        res.append(temp[:])  # Add current subset to result\n",
        "        for i in range(start, len(nums)):\n",
        "            if i > start and nums[i] == nums[i-1]:  # Skip duplicates\n",
        "                continue\n",
        "            temp.append(nums[i])  # Include current element\n",
        "            subsets_with_dup(temp, i + 1)  # Recursive call for next elements\n",
        "            temp.pop()  # Remove last element to backtrack\n",
        "\n",
        "    # Permutations (All possible arrangements)\n",
        "    def permutations(temp):\n",
        "        if len(temp) == len(nums):  # If we form a full permutation\n",
        "            res.append(temp[:])  # Add permutation to result\n",
        "        else:\n",
        "            for num in nums:\n",
        "                if num in temp:  # Avoid reusing the same number\n",
        "                    continue\n",
        "                temp.append(num)\n",
        "                permutations(temp)  # Recursive call\n",
        "                temp.pop()  # Backtrack\n",
        "\n",
        "    # Permutations II (Handles Duplicates)\n",
        "    def permutations_with_dup(temp, used):\n",
        "        if len(temp) == len(nums):  # If we form a full permutation\n",
        "            res.append(temp[:])  # Add permutation to result\n",
        "        else:\n",
        "            for i in range(len(nums)):\n",
        "                if used[i] or (i > 0 and nums[i] == nums[i-1] and not used[i-1]):  # Skip duplicates\n",
        "                    continue\n",
        "                used[i] = True  # Mark number as used\n",
        "                temp.append(nums[i])\n",
        "                permutations_with_dup(temp, used)  # Recursive call\n",
        "                used[i] = False  # Unmark number\n",
        "                temp.pop()  # Backtrack\n",
        "\n",
        "    # Combination Sum (Allow reusing the same elements)\n",
        "    def combination_sum(temp, remain, start):\n",
        "        if remain < 0:  # If sum exceeds target, stop\n",
        "            return\n",
        "        elif remain == 0:  # If sum equals target, add to result\n",
        "            res.append(temp[:])\n",
        "        else:\n",
        "            for i in range(start, len(nums)):\n",
        "                temp.append(nums[i])  # Include current number\n",
        "                combination_sum(temp, remain - nums[i], i)  # Recursive call (allow reuse)\n",
        "                temp.pop()  # Backtrack\n",
        "\n",
        "    # Combination Sum II (Can't reuse same elements)\n",
        "    def combination_sum2(temp, remain, start):\n",
        "        if remain < 0:  # If sum exceeds target, stop\n",
        "            return\n",
        "        elif remain == 0:  # If sum equals target, add to result\n",
        "            res.append(temp[:])\n",
        "        else:\n",
        "            for i in range(start, len(nums)):\n",
        "                if i > start and nums[i] == nums[i-1]:  # Skip duplicates\n",
        "                    continue\n",
        "                temp.append(nums[i])  # Include current number\n",
        "                combination_sum2(temp, remain - nums[i], i + 1)  # Recursive call (no reuse)\n",
        "                temp.pop()  # Backtrack\n",
        "\n",
        "    # Palindrome Partitioning (Split string into palindromic substrings)\n",
        "    def palindrome_partitioning(temp, start, s):\n",
        "        if start == len(s):  # If entire string is partitioned\n",
        "            res.append(temp[:])  # Add partitioning to result\n",
        "        else:\n",
        "            for i in range(start, len(s)):\n",
        "                if is_palindrome(s[start:i+1]):  # Check if substring is palindrome\n",
        "                    temp.append(s[start:i+1])  # Include palindrome substring\n",
        "                    palindrome_partitioning(temp, i + 1, s)  # Recursive call\n",
        "                    temp.pop()  # Backtrack\n",
        "\n",
        "    # Choose the appropriate backtracking function\n",
        "    if problem_type == \"subsets\":\n",
        "        subsets([], 0)\n",
        "    elif problem_type == \"subsets_with_dup\":\n",
        "        subsets_with_dup([], 0)\n",
        "    elif problem_type == \"permutations\":\n",
        "        permutations([])\n",
        "    elif problem_type == \"permutations_with_dup\":\n",
        "        permutations_with_dup([], [False] * len(nums))\n",
        "    elif problem_type == \"combination_sum\":\n",
        "        combination_sum([], target, 0)\n",
        "    elif problem_type == \"combination_sum2\":\n",
        "        combination_sum2([], target, 0)\n",
        "    elif problem_type == \"palindrome_partitioning\":\n",
        "        palindrome_partitioning([], 0, nums)  # nums should be a string for this case\n",
        "\n",
        "    return res\n"
      ]
    },
    {
      "cell_type": "code",
      "source": [
        "print(backtracking_solver([1,2,3], problem_type=\"subsets\"))"
      ],
      "metadata": {
        "colab": {
          "base_uri": "https://localhost:8080/"
        },
        "id": "ijCHUXUm74AV",
        "outputId": "aca44673-3a23-4e1c-f2f3-478a5f13acc7"
      },
      "execution_count": 15,
      "outputs": [
        {
          "output_type": "stream",
          "name": "stdout",
          "text": [
            "[[], [1], [1, 2], [1, 2, 3], [1, 3], [2], [2, 3], [3]]\n"
          ]
        }
      ]
    },
    {
      "cell_type": "code",
      "source": [
        "print(backtracking_solver([1,2,2], problem_type=\"subsets_with_dup\"))"
      ],
      "metadata": {
        "colab": {
          "base_uri": "https://localhost:8080/"
        },
        "id": "rOoaI-elEeN9",
        "outputId": "954a8b8e-8440-4475-9d9c-028009555041"
      },
      "execution_count": 16,
      "outputs": [
        {
          "output_type": "stream",
          "name": "stdout",
          "text": [
            "[[], [1], [1, 2], [1, 2, 2], [2], [2, 2]]\n"
          ]
        }
      ]
    },
    {
      "cell_type": "code",
      "source": [
        "print(backtracking_solver([1,2,3], problem_type=\"permutations\"))"
      ],
      "metadata": {
        "colab": {
          "base_uri": "https://localhost:8080/"
        },
        "id": "ewUoSYnmCyry",
        "outputId": "ad159cd8-2746-4e19-ff3a-cfe4186efd75"
      },
      "execution_count": 17,
      "outputs": [
        {
          "output_type": "stream",
          "name": "stdout",
          "text": [
            "[[1, 2, 3], [1, 3, 2], [2, 1, 3], [2, 3, 1], [3, 1, 2], [3, 2, 1]]\n"
          ]
        }
      ]
    },
    {
      "cell_type": "code",
      "source": [
        "print(backtracking_solver([1,1,2], problem_type=\"permutations_with_dup\"))"
      ],
      "metadata": {
        "colab": {
          "base_uri": "https://localhost:8080/"
        },
        "id": "dB_b6Uw_CznM",
        "outputId": "f5464e4c-4b74-48ee-943e-5d91ef911232"
      },
      "execution_count": 18,
      "outputs": [
        {
          "output_type": "stream",
          "name": "stdout",
          "text": [
            "[[1, 1, 2], [1, 2, 1], [2, 1, 1]]\n"
          ]
        }
      ]
    },
    {
      "cell_type": "code",
      "source": [
        "print(backtracking_solver([2,3,6,7], target=7, problem_type=\"combination_sum\"))"
      ],
      "metadata": {
        "colab": {
          "base_uri": "https://localhost:8080/"
        },
        "id": "P3QbSLSEC6P9",
        "outputId": "57f296fd-7db9-4f39-efb6-fab46f84f1e4"
      },
      "execution_count": 19,
      "outputs": [
        {
          "output_type": "stream",
          "name": "stdout",
          "text": [
            "[[2, 2, 3], [7]]\n"
          ]
        }
      ]
    },
    {
      "cell_type": "code",
      "source": [
        "print(backtracking_solver([10,1,2,7,6,5], target=8, problem_type=\"combination_sum2\"))"
      ],
      "metadata": {
        "colab": {
          "base_uri": "https://localhost:8080/"
        },
        "id": "mya-bHk0C79k",
        "outputId": "0131beb8-d5b7-413c-f30d-145fc6060233"
      },
      "execution_count": 20,
      "outputs": [
        {
          "output_type": "stream",
          "name": "stdout",
          "text": [
            "[[1, 2, 5], [1, 7], [2, 6]]\n"
          ]
        }
      ]
    },
    {
      "cell_type": "code",
      "source": [
        "print(backtracking_solver(\"aab\", problem_type=\"palindrome_partitioning\"))"
      ],
      "metadata": {
        "colab": {
          "base_uri": "https://localhost:8080/"
        },
        "id": "TdigPNAKC9iW",
        "outputId": "f410fc3f-3604-4e75-fc9a-28861c559976"
      },
      "execution_count": 21,
      "outputs": [
        {
          "output_type": "stream",
          "name": "stdout",
          "text": [
            "[[['a'], ['a'], ['b']], [['a', 'a'], ['b']]]\n"
          ]
        }
      ]
    }
  ]
}